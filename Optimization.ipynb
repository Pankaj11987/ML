{
 "cells": [
  {
   "cell_type": "code",
   "execution_count": 5,
   "id": "eb31b2da",
   "metadata": {},
   "outputs": [],
   "source": [
    "import numpy as np"
   ]
  },
  {
   "cell_type": "code",
   "execution_count": 7,
   "id": "8d271902",
   "metadata": {},
   "outputs": [
    {
     "data": {
      "text/plain": [
       "array([0, 1, 2, 3, 4, 5, 6, 7, 8, 9])"
      ]
     },
     "execution_count": 7,
     "metadata": {},
     "output_type": "execute_result"
    }
   ],
   "source": [
    "x = np.arange(10)\n",
    "x"
   ]
  },
  {
   "cell_type": "code",
   "execution_count": 8,
   "id": "87397eaf",
   "metadata": {},
   "outputs": [
    {
     "name": "stdout",
     "output_type": "stream",
     "text": [
      "[ 13.78196854  32.00777288  70.35085288 104.41065368 139.90075192\n",
      " 174.35993942 199.45887162 238.80530372 258.63265237 321.92969149]\n"
     ]
    }
   ],
   "source": [
    "y = 34*x+2 + np.random.normal(2,10,len(x))\n",
    "\n",
    "print(y)"
   ]
  },
  {
   "cell_type": "code",
   "execution_count": 11,
   "id": "709df028",
   "metadata": {},
   "outputs": [],
   "source": [
    "import matplotlib.pyplot as plt"
   ]
  },
  {
   "cell_type": "code",
   "execution_count": 18,
   "id": "4349309c",
   "metadata": {},
   "outputs": [
    {
     "data": {
      "image/png": "[encoded data removed]",
      "text/plain": [
       "<Figure size 432x288 with 1 Axes>"
      ]
     },
     "metadata": {
      "needs_background": "light"
     },
     "output_type": "display_data"
    }
   ],
   "source": [
    "plt.plot(x,y,'s')\n",
    "plt.show()"
   ]
  },
  {
   "cell_type": "code",
   "execution_count": 13,
   "id": "2e1e4962",
   "metadata": {},
   "outputs": [],
   "source": [
    "a = 0\n",
    "b = 0"
   ]
  },
  {
   "cell_type": "code",
   "execution_count": 14,
   "id": "70a47575",
   "metadata": {},
   "outputs": [
    {
     "data": {
      "text/plain": [
       "10"
      ]
     },
     "execution_count": 14,
     "metadata": {},
     "output_type": "execute_result"
    }
   ],
   "source": [
    "lr = .0001\n",
    "n = len(x)\n",
    "n"
   ]
  },
  {
   "cell_type": "code",
   "execution_count": 15,
   "id": "5ee25d6c",
   "metadata": {},
   "outputs": [
    {
     "name": "stdout",
     "output_type": "stream",
     "text": [
      "0.19504325885074175 -1950.4325885074174 0.031072769170193432 -310.7276917019343\n",
      "14.911258406857243 -1085.4605093938824 2.3747760315223085 -172.78828609284756\n",
      "23.101222341654694 -604.0931432975865 3.6777249298655192 -96.02412942216328\n",
      "27.659248682158903 -336.2063608439995 4.401489254080241 -53.30472172344796\n",
      "30.196057370751507 -187.12406165383433 4.802938036413126 -29.531617271287185\n",
      "31.60803320985398 -104.15787038450091 5.025021904314858 -16.30235155827647\n",
      "32.3940250046855 -57.986079812327496 5.147294538983156 -8.940853224274413\n",
      "32.83164805220976 -32.2908112969436 5.21402846762272 -4.84483299356701\n",
      "33.07539857205883 -17.990971389752243 5.24986183606766 -2.5660859727148395\n",
      "33.21125555369395 -10.032823629870943 5.268506023748111 -1.298668946248628\n",
      "33.28706733343896 -5.603903595975627 5.277591534931045 -0.5940649573493686\n"
     ]
    }
   ],
   "source": [
    "for i in range(1001):\n",
    "    a_new = sum(x*(1/n)*2*(a*x+b - y))\n",
    "    b_new = sum((1/n)*2*(a*x+b - y))\n",
    "    a = a - lr*a_new\n",
    "    b = b - lr*b_new\n",
    "    if i % 100 == 0:\n",
    "        print(a,a_new,b,b_new)\n"
   ]
  },
  {
   "cell_type": "code",
   "execution_count": 16,
   "id": "86369ce3",
   "metadata": {},
   "outputs": [],
   "source": [
    "y1 = 34.25*x+5.52"
   ]
  },
  {
   "cell_type": "code",
   "execution_count": 17,
   "id": "1043d10b",
   "metadata": {},
   "outputs": [
    {
     "data": {
      "image/png": "[encoded data removed]",
      "text/plain": [
       "<Figure size 432x288 with 1 Axes>"
      ]
     },
     "metadata": {
      "needs_background": "light"
     },
     "output_type": "display_data"
    }
   ],
   "source": [
    "plt.plot(x,y,'sk')\n",
    "plt.plot(x,y1,'r--')\n",
    "plt.show()"
   ]
  },
  {
   "cell_type": "code",
   "execution_count": null,
   "id": "0cdf7674",
   "metadata": {},
   "outputs": [],
   "source": []
  }
 ],
 "metadata": {
  "kernelspec": {
   "display_name": "Python 3",
   "language": "python",
   "name": "python3"
  },
  "language_info": {
   "codemirror_mode": {
    "name": "ipython",
    "version": 3
   },
   "file_extension": ".py",
   "mimetype": "text/x-python",
   "name": "python",
   "nbconvert_exporter": "python",
   "pygments_lexer": "ipython3",
   "version": "3.6.5"
  }
 },
 "nbformat": 4,
 "nbformat_minor": 5
}
